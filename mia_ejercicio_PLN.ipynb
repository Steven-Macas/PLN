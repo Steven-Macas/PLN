{
  "nbformat": 4,
  "nbformat_minor": 0,
  "metadata": {
    "colab": {
      "provenance": [],
      "authorship_tag": "ABX9TyPWT5B0h0cotKFvMcRkucoj",
      "include_colab_link": true
    },
    "kernelspec": {
      "name": "python3",
      "display_name": "Python 3"
    },
    "language_info": {
      "name": "python"
    }
  },
  "cells": [
    {
      "cell_type": "markdown",
      "metadata": {
        "id": "view-in-github",
        "colab_type": "text"
      },
      "source": [
        "<a href=\"https://colab.research.google.com/github/Steven-Macas/PLN/blob/main/mia_ejercicio_PLN.ipynb\" target=\"_parent\"><img src=\"https://colab.research.google.com/assets/colab-badge.svg\" alt=\"Open In Colab\"/></a>"
      ]
    },
    {
      "cell_type": "code",
      "source": [
        "!pip install nltk"
      ],
      "metadata": {
        "colab": {
          "base_uri": "https://localhost:8080/"
        },
        "id": "KmIP3x5HU4BK",
        "outputId": "27f71865-525a-4937-a374-8095e63b97b3"
      },
      "execution_count": 10,
      "outputs": [
        {
          "output_type": "stream",
          "name": "stdout",
          "text": [
            "Looking in indexes: https://pypi.org/simple, https://us-python.pkg.dev/colab-wheels/public/simple/\n",
            "Requirement already satisfied: nltk in /usr/local/lib/python3.9/dist-packages (3.7)\n",
            "Requirement already satisfied: tqdm in /usr/local/lib/python3.9/dist-packages (from nltk) (4.65.0)\n",
            "Requirement already satisfied: joblib in /usr/local/lib/python3.9/dist-packages (from nltk) (1.2.0)\n",
            "Requirement already satisfied: click in /usr/local/lib/python3.9/dist-packages (from nltk) (8.1.3)\n",
            "Requirement already satisfied: regex>=2021.8.3 in /usr/local/lib/python3.9/dist-packages (from nltk) (2022.6.2)\n"
          ]
        }
      ]
    },
    {
      "cell_type": "code",
      "execution_count": 1,
      "metadata": {
        "colab": {
          "base_uri": "https://localhost:8080/"
        },
        "id": "XZ4-M07cPkj5",
        "outputId": "bcde3fe2-604c-494d-a9ae-e0256bd32513"
      },
      "outputs": [
        {
          "output_type": "stream",
          "name": "stdout",
          "text": [
            "Mounted at /content/drive\n"
          ]
        }
      ],
      "source": [
        "from google.colab import drive\n",
        "drive.mount('/content/drive')"
      ]
    },
    {
      "cell_type": "code",
      "source": [
        "ruta_fichero = '/content/drive/My Drive/ejemplo2.txt'\n",
        "#Leer con codificación utf-8 para que los acentos sean detectados: open (ruta_fichero, \"r\", encoding='utf-8')\n",
        "with open(ruta_fichero, \"r\", encoding='utf-8') as f:\n",
        "  contenido = f.read() #Leer el contenido de un fichero"
      ],
      "metadata": {
        "id": "Od_bcizURHrk"
      },
      "execution_count": 16,
      "outputs": []
    },
    {
      "cell_type": "code",
      "source": [
        "contenido"
      ],
      "metadata": {
        "colab": {
          "base_uri": "https://localhost:8080/",
          "height": 53
        },
        "id": "YjUHWQWZYf5-",
        "outputId": "b5c881f4-ec20-45eb-8e20-2a6cba42b5b8"
      },
      "execution_count": 17,
      "outputs": [
        {
          "output_type": "execute_result",
          "data": {
            "text/plain": [
              "'Titulo\\n\\nLas noticias no son buenas en la Palma. \\n\\nNoticia\\n\\nLos acontecimientos que se han dado no han sido los esperados y desafortunadamente.\\nSe han generado nuevas corrientes que no podrán ser abordadas. Desde el fin de semana\\nse espera que no haya más objetivos.\\n\\nResumen\\n\\nLos palmeros se encuentran en un estado lamentables. Seguiremos informando.\\n\\n\\n'"
            ],
            "application/vnd.google.colaboratory.intrinsic+json": {
              "type": "string"
            }
          },
          "metadata": {},
          "execution_count": 17
        }
      ]
    },
    {
      "cell_type": "code",
      "source": [
        "#Detectar dónde empieza cada sección y guardar el contenido de cada sección por separado.\n",
        "#o Pista: Cada frase termina salto de línea. Dependiendo del fichero y la forma de procesarlo\n",
        "#puede que sea necesario realizar limpieza de datos no relevantes: tabuladores, saltos de línea, retornos de carro, puntos, comas, etc. \n",
        "lineas = contenido.split('\\n')\n",
        "titulo = lineas[0]\n",
        "noticia = lineas[1:]\n",
        "noticia_limpia = [linea.replace('\\t', '').replace('\\r', '').replace(',', '').replace('.', '').strip() for linea in noticia]"
      ],
      "metadata": {
        "id": "OUCU2QW0Ww93"
      },
      "execution_count": 18,
      "outputs": []
    },
    {
      "cell_type": "markdown",
      "source": [
        "\n",
        "Convertir a minúsculas (función lower() de str de python) o Eliminar los acentos\n",
        "\n",
        "Eliminar las stopwords\n",
        "\n",
        "Extraer los POS tags\n",
        "\n",
        "Eliminar las palabras que no sean nombres.  Pista: Buscar los POS que empiezan por “nc” (nombre común).  Ej: (palma', 'ncfs000’)\n"
      ],
      "metadata": {
        "id": "uDNj3YeUWav0"
      }
    },
    {
      "cell_type": "code",
      "source": [
        "#Para cada sección o Extraer los tokens\n",
        "import nltk\n",
        "nltk.download('stopwords')\n",
        "nltk.download('punkt')\n",
        "nltk.download('averaged_perceptron_tagger')"
      ],
      "metadata": {
        "colab": {
          "base_uri": "https://localhost:8080/"
        },
        "id": "nH6mCiiOXYE8",
        "outputId": "1506116d-972f-4313-d54d-66196e2feadb"
      },
      "execution_count": 11,
      "outputs": [
        {
          "output_type": "stream",
          "name": "stderr",
          "text": [
            "[nltk_data] Downloading package stopwords to /root/nltk_data...\n",
            "[nltk_data]   Unzipping corpora/stopwords.zip.\n",
            "[nltk_data] Downloading package punkt to /root/nltk_data...\n",
            "[nltk_data]   Unzipping tokenizers/punkt.zip.\n",
            "[nltk_data] Downloading package averaged_perceptron_tagger to\n",
            "[nltk_data]     /root/nltk_data...\n",
            "[nltk_data]   Unzipping taggers/averaged_perceptron_tagger.zip.\n"
          ]
        },
        {
          "output_type": "execute_result",
          "data": {
            "text/plain": [
              "True"
            ]
          },
          "metadata": {},
          "execution_count": 11
        }
      ]
    },
    {
      "cell_type": "code",
      "source": [
        "!pip install unidecode"
      ],
      "metadata": {
        "colab": {
          "base_uri": "https://localhost:8080/"
        },
        "id": "6hZDjrR6ZQMG",
        "outputId": "dfc8a00a-f9a2-4ff2-c4bd-4b65c1c00470"
      },
      "execution_count": 24,
      "outputs": [
        {
          "output_type": "stream",
          "name": "stdout",
          "text": [
            "Looking in indexes: https://pypi.org/simple, https://us-python.pkg.dev/colab-wheels/public/simple/\n",
            "Collecting unidecode\n",
            "  Downloading Unidecode-1.3.6-py3-none-any.whl (235 kB)\n",
            "\u001b[2K     \u001b[90m━━━━━━━━━━━━━━━━━━━━━━━━━━━━━━━━━━━━━━━\u001b[0m \u001b[32m235.9/235.9 KB\u001b[0m \u001b[31m5.1 MB/s\u001b[0m eta \u001b[36m0:00:00\u001b[0m\n",
            "\u001b[?25hInstalling collected packages: unidecode\n",
            "Successfully installed unidecode-1.3.6\n"
          ]
        }
      ]
    },
    {
      "cell_type": "code",
      "source": [
        "from nltk.tokenize import word_tokenize\n",
        "from nltk.corpus import stopwords\n",
        "import unidecode\n",
        "\n",
        "texto_limpio = ' '.join(noticia_limpia)\n",
        "tokens = word_tokenize(texto_limpio)\n",
        "tokens_min = [token.lower() for token in tokens]\n",
        "tokens_sin_acentos = [unidecode.unidecode(token) for token in tokens_min]\n",
        "stopwords_esp = stopwords.words('spanish')\n",
        "tokens_limp = [token for token in tokens_sin_acentos if token not in stopwords_esp]\n",
        "\n",
        "tokens_pos = nltk.pos_tag(tokens_limp)\n",
        "tokens_nc = [token[0] for token in tokens_pos if token[1].startswith('nc')]"
      ],
      "metadata": {
        "id": "FpcHEkAmXrOB"
      },
      "execution_count": 25,
      "outputs": []
    },
    {
      "cell_type": "markdown",
      "source": [
        "# *Resultado*\n",
        "---"
      ],
      "metadata": {
        "id": "4RrhQhveaeO2"
      }
    },
    {
      "cell_type": "code",
      "source": [
        "texto_limpio"
      ],
      "metadata": {
        "colab": {
          "base_uri": "https://localhost:8080/",
          "height": 53
        },
        "id": "S4y17rzOaJhE",
        "outputId": "acc63b84-eee4-425c-c8dd-8a1542d21126"
      },
      "execution_count": 29,
      "outputs": [
        {
          "output_type": "execute_result",
          "data": {
            "text/plain": [
              "' Las noticias no son buenas en la Palma  Noticia  Los acontecimientos que se han dado no han sido los esperados y desafortunadamente Se han generado nuevas corrientes que no podrán ser abordadas Desde el fin de semana se espera que no haya más objetivos  Resumen  Los palmeros se encuentran en un estado lamentables Seguiremos informando   '"
            ],
            "application/vnd.google.colaboratory.intrinsic+json": {
              "type": "string"
            }
          },
          "metadata": {},
          "execution_count": 29
        }
      ]
    },
    {
      "cell_type": "code",
      "source": [
        "tokens_pos"
      ],
      "metadata": {
        "colab": {
          "base_uri": "https://localhost:8080/"
        },
        "id": "ma1CpYBvRIaQ",
        "outputId": "2c2c55c0-58cc-4fc1-ca24-ae6c859e204a"
      },
      "execution_count": 30,
      "outputs": [
        {
          "output_type": "execute_result",
          "data": {
            "text/plain": [
              "[('noticias', 'JJ'),\n",
              " ('buenas', 'NNS'),\n",
              " ('palma', 'VBP'),\n",
              " ('noticia', 'JJ'),\n",
              " ('acontecimientos', 'NN'),\n",
              " ('dado', 'NN'),\n",
              " ('sido', 'NN'),\n",
              " ('esperados', 'NN'),\n",
              " ('desafortunadamente', 'NN'),\n",
              " ('generado', 'NN'),\n",
              " ('nuevas', 'NN'),\n",
              " ('corrientes', 'VBZ'),\n",
              " ('podran', 'IN'),\n",
              " ('ser', 'NN'),\n",
              " ('abordadas', 'NNS'),\n",
              " ('fin', 'VBP'),\n",
              " ('semana', 'JJ'),\n",
              " ('espera', 'NN'),\n",
              " ('mas', 'NN'),\n",
              " ('objetivos', 'IN'),\n",
              " ('resumen', 'NNS'),\n",
              " ('palmeros', 'VBP'),\n",
              " ('encuentran', 'JJ'),\n",
              " ('lamentables', 'NNS'),\n",
              " ('seguiremos', 'VBP'),\n",
              " ('informando', 'NN')]"
            ]
          },
          "metadata": {},
          "execution_count": 30
        }
      ]
    },
    {
      "cell_type": "code",
      "source": [
        "tokens_min"
      ],
      "metadata": {
        "colab": {
          "base_uri": "https://localhost:8080/"
        },
        "id": "BGR_VwZ6aKFm",
        "outputId": "1b5fa8bc-b23c-4122-8562-cee80af4956a"
      },
      "execution_count": 31,
      "outputs": [
        {
          "output_type": "execute_result",
          "data": {
            "text/plain": [
              "['las',\n",
              " 'noticias',\n",
              " 'no',\n",
              " 'son',\n",
              " 'buenas',\n",
              " 'en',\n",
              " 'la',\n",
              " 'palma',\n",
              " 'noticia',\n",
              " 'los',\n",
              " 'acontecimientos',\n",
              " 'que',\n",
              " 'se',\n",
              " 'han',\n",
              " 'dado',\n",
              " 'no',\n",
              " 'han',\n",
              " 'sido',\n",
              " 'los',\n",
              " 'esperados',\n",
              " 'y',\n",
              " 'desafortunadamente',\n",
              " 'se',\n",
              " 'han',\n",
              " 'generado',\n",
              " 'nuevas',\n",
              " 'corrientes',\n",
              " 'que',\n",
              " 'no',\n",
              " 'podrán',\n",
              " 'ser',\n",
              " 'abordadas',\n",
              " 'desde',\n",
              " 'el',\n",
              " 'fin',\n",
              " 'de',\n",
              " 'semana',\n",
              " 'se',\n",
              " 'espera',\n",
              " 'que',\n",
              " 'no',\n",
              " 'haya',\n",
              " 'más',\n",
              " 'objetivos',\n",
              " 'resumen',\n",
              " 'los',\n",
              " 'palmeros',\n",
              " 'se',\n",
              " 'encuentran',\n",
              " 'en',\n",
              " 'un',\n",
              " 'estado',\n",
              " 'lamentables',\n",
              " 'seguiremos',\n",
              " 'informando']"
            ]
          },
          "metadata": {},
          "execution_count": 31
        }
      ]
    },
    {
      "cell_type": "code",
      "source": [
        "tokens_sin_acentos"
      ],
      "metadata": {
        "colab": {
          "base_uri": "https://localhost:8080/"
        },
        "id": "_Rwkv5HLaKLM",
        "outputId": "46ae7e95-86f9-4ebd-d1af-bbcc337b93b6"
      },
      "execution_count": 32,
      "outputs": [
        {
          "output_type": "execute_result",
          "data": {
            "text/plain": [
              "['las',\n",
              " 'noticias',\n",
              " 'no',\n",
              " 'son',\n",
              " 'buenas',\n",
              " 'en',\n",
              " 'la',\n",
              " 'palma',\n",
              " 'noticia',\n",
              " 'los',\n",
              " 'acontecimientos',\n",
              " 'que',\n",
              " 'se',\n",
              " 'han',\n",
              " 'dado',\n",
              " 'no',\n",
              " 'han',\n",
              " 'sido',\n",
              " 'los',\n",
              " 'esperados',\n",
              " 'y',\n",
              " 'desafortunadamente',\n",
              " 'se',\n",
              " 'han',\n",
              " 'generado',\n",
              " 'nuevas',\n",
              " 'corrientes',\n",
              " 'que',\n",
              " 'no',\n",
              " 'podran',\n",
              " 'ser',\n",
              " 'abordadas',\n",
              " 'desde',\n",
              " 'el',\n",
              " 'fin',\n",
              " 'de',\n",
              " 'semana',\n",
              " 'se',\n",
              " 'espera',\n",
              " 'que',\n",
              " 'no',\n",
              " 'haya',\n",
              " 'mas',\n",
              " 'objetivos',\n",
              " 'resumen',\n",
              " 'los',\n",
              " 'palmeros',\n",
              " 'se',\n",
              " 'encuentran',\n",
              " 'en',\n",
              " 'un',\n",
              " 'estado',\n",
              " 'lamentables',\n",
              " 'seguiremos',\n",
              " 'informando']"
            ]
          },
          "metadata": {},
          "execution_count": 32
        }
      ]
    },
    {
      "cell_type": "code",
      "source": [
        "stopwords_esp"
      ],
      "metadata": {
        "colab": {
          "base_uri": "https://localhost:8080/"
        },
        "id": "PENvb5lTaKSr",
        "outputId": "f76f2a6d-542d-463f-d3e8-44f00373092d"
      },
      "execution_count": 33,
      "outputs": [
        {
          "output_type": "execute_result",
          "data": {
            "text/plain": [
              "['de',\n",
              " 'la',\n",
              " 'que',\n",
              " 'el',\n",
              " 'en',\n",
              " 'y',\n",
              " 'a',\n",
              " 'los',\n",
              " 'del',\n",
              " 'se',\n",
              " 'las',\n",
              " 'por',\n",
              " 'un',\n",
              " 'para',\n",
              " 'con',\n",
              " 'no',\n",
              " 'una',\n",
              " 'su',\n",
              " 'al',\n",
              " 'lo',\n",
              " 'como',\n",
              " 'más',\n",
              " 'pero',\n",
              " 'sus',\n",
              " 'le',\n",
              " 'ya',\n",
              " 'o',\n",
              " 'este',\n",
              " 'sí',\n",
              " 'porque',\n",
              " 'esta',\n",
              " 'entre',\n",
              " 'cuando',\n",
              " 'muy',\n",
              " 'sin',\n",
              " 'sobre',\n",
              " 'también',\n",
              " 'me',\n",
              " 'hasta',\n",
              " 'hay',\n",
              " 'donde',\n",
              " 'quien',\n",
              " 'desde',\n",
              " 'todo',\n",
              " 'nos',\n",
              " 'durante',\n",
              " 'todos',\n",
              " 'uno',\n",
              " 'les',\n",
              " 'ni',\n",
              " 'contra',\n",
              " 'otros',\n",
              " 'ese',\n",
              " 'eso',\n",
              " 'ante',\n",
              " 'ellos',\n",
              " 'e',\n",
              " 'esto',\n",
              " 'mí',\n",
              " 'antes',\n",
              " 'algunos',\n",
              " 'qué',\n",
              " 'unos',\n",
              " 'yo',\n",
              " 'otro',\n",
              " 'otras',\n",
              " 'otra',\n",
              " 'él',\n",
              " 'tanto',\n",
              " 'esa',\n",
              " 'estos',\n",
              " 'mucho',\n",
              " 'quienes',\n",
              " 'nada',\n",
              " 'muchos',\n",
              " 'cual',\n",
              " 'poco',\n",
              " 'ella',\n",
              " 'estar',\n",
              " 'estas',\n",
              " 'algunas',\n",
              " 'algo',\n",
              " 'nosotros',\n",
              " 'mi',\n",
              " 'mis',\n",
              " 'tú',\n",
              " 'te',\n",
              " 'ti',\n",
              " 'tu',\n",
              " 'tus',\n",
              " 'ellas',\n",
              " 'nosotras',\n",
              " 'vosotros',\n",
              " 'vosotras',\n",
              " 'os',\n",
              " 'mío',\n",
              " 'mía',\n",
              " 'míos',\n",
              " 'mías',\n",
              " 'tuyo',\n",
              " 'tuya',\n",
              " 'tuyos',\n",
              " 'tuyas',\n",
              " 'suyo',\n",
              " 'suya',\n",
              " 'suyos',\n",
              " 'suyas',\n",
              " 'nuestro',\n",
              " 'nuestra',\n",
              " 'nuestros',\n",
              " 'nuestras',\n",
              " 'vuestro',\n",
              " 'vuestra',\n",
              " 'vuestros',\n",
              " 'vuestras',\n",
              " 'esos',\n",
              " 'esas',\n",
              " 'estoy',\n",
              " 'estás',\n",
              " 'está',\n",
              " 'estamos',\n",
              " 'estáis',\n",
              " 'están',\n",
              " 'esté',\n",
              " 'estés',\n",
              " 'estemos',\n",
              " 'estéis',\n",
              " 'estén',\n",
              " 'estaré',\n",
              " 'estarás',\n",
              " 'estará',\n",
              " 'estaremos',\n",
              " 'estaréis',\n",
              " 'estarán',\n",
              " 'estaría',\n",
              " 'estarías',\n",
              " 'estaríamos',\n",
              " 'estaríais',\n",
              " 'estarían',\n",
              " 'estaba',\n",
              " 'estabas',\n",
              " 'estábamos',\n",
              " 'estabais',\n",
              " 'estaban',\n",
              " 'estuve',\n",
              " 'estuviste',\n",
              " 'estuvo',\n",
              " 'estuvimos',\n",
              " 'estuvisteis',\n",
              " 'estuvieron',\n",
              " 'estuviera',\n",
              " 'estuvieras',\n",
              " 'estuviéramos',\n",
              " 'estuvierais',\n",
              " 'estuvieran',\n",
              " 'estuviese',\n",
              " 'estuvieses',\n",
              " 'estuviésemos',\n",
              " 'estuvieseis',\n",
              " 'estuviesen',\n",
              " 'estando',\n",
              " 'estado',\n",
              " 'estada',\n",
              " 'estados',\n",
              " 'estadas',\n",
              " 'estad',\n",
              " 'he',\n",
              " 'has',\n",
              " 'ha',\n",
              " 'hemos',\n",
              " 'habéis',\n",
              " 'han',\n",
              " 'haya',\n",
              " 'hayas',\n",
              " 'hayamos',\n",
              " 'hayáis',\n",
              " 'hayan',\n",
              " 'habré',\n",
              " 'habrás',\n",
              " 'habrá',\n",
              " 'habremos',\n",
              " 'habréis',\n",
              " 'habrán',\n",
              " 'habría',\n",
              " 'habrías',\n",
              " 'habríamos',\n",
              " 'habríais',\n",
              " 'habrían',\n",
              " 'había',\n",
              " 'habías',\n",
              " 'habíamos',\n",
              " 'habíais',\n",
              " 'habían',\n",
              " 'hube',\n",
              " 'hubiste',\n",
              " 'hubo',\n",
              " 'hubimos',\n",
              " 'hubisteis',\n",
              " 'hubieron',\n",
              " 'hubiera',\n",
              " 'hubieras',\n",
              " 'hubiéramos',\n",
              " 'hubierais',\n",
              " 'hubieran',\n",
              " 'hubiese',\n",
              " 'hubieses',\n",
              " 'hubiésemos',\n",
              " 'hubieseis',\n",
              " 'hubiesen',\n",
              " 'habiendo',\n",
              " 'habido',\n",
              " 'habida',\n",
              " 'habidos',\n",
              " 'habidas',\n",
              " 'soy',\n",
              " 'eres',\n",
              " 'es',\n",
              " 'somos',\n",
              " 'sois',\n",
              " 'son',\n",
              " 'sea',\n",
              " 'seas',\n",
              " 'seamos',\n",
              " 'seáis',\n",
              " 'sean',\n",
              " 'seré',\n",
              " 'serás',\n",
              " 'será',\n",
              " 'seremos',\n",
              " 'seréis',\n",
              " 'serán',\n",
              " 'sería',\n",
              " 'serías',\n",
              " 'seríamos',\n",
              " 'seríais',\n",
              " 'serían',\n",
              " 'era',\n",
              " 'eras',\n",
              " 'éramos',\n",
              " 'erais',\n",
              " 'eran',\n",
              " 'fui',\n",
              " 'fuiste',\n",
              " 'fue',\n",
              " 'fuimos',\n",
              " 'fuisteis',\n",
              " 'fueron',\n",
              " 'fuera',\n",
              " 'fueras',\n",
              " 'fuéramos',\n",
              " 'fuerais',\n",
              " 'fueran',\n",
              " 'fuese',\n",
              " 'fueses',\n",
              " 'fuésemos',\n",
              " 'fueseis',\n",
              " 'fuesen',\n",
              " 'sintiendo',\n",
              " 'sentido',\n",
              " 'sentida',\n",
              " 'sentidos',\n",
              " 'sentidas',\n",
              " 'siente',\n",
              " 'sentid',\n",
              " 'tengo',\n",
              " 'tienes',\n",
              " 'tiene',\n",
              " 'tenemos',\n",
              " 'tenéis',\n",
              " 'tienen',\n",
              " 'tenga',\n",
              " 'tengas',\n",
              " 'tengamos',\n",
              " 'tengáis',\n",
              " 'tengan',\n",
              " 'tendré',\n",
              " 'tendrás',\n",
              " 'tendrá',\n",
              " 'tendremos',\n",
              " 'tendréis',\n",
              " 'tendrán',\n",
              " 'tendría',\n",
              " 'tendrías',\n",
              " 'tendríamos',\n",
              " 'tendríais',\n",
              " 'tendrían',\n",
              " 'tenía',\n",
              " 'tenías',\n",
              " 'teníamos',\n",
              " 'teníais',\n",
              " 'tenían',\n",
              " 'tuve',\n",
              " 'tuviste',\n",
              " 'tuvo',\n",
              " 'tuvimos',\n",
              " 'tuvisteis',\n",
              " 'tuvieron',\n",
              " 'tuviera',\n",
              " 'tuvieras',\n",
              " 'tuviéramos',\n",
              " 'tuvierais',\n",
              " 'tuvieran',\n",
              " 'tuviese',\n",
              " 'tuvieses',\n",
              " 'tuviésemos',\n",
              " 'tuvieseis',\n",
              " 'tuviesen',\n",
              " 'teniendo',\n",
              " 'tenido',\n",
              " 'tenida',\n",
              " 'tenidos',\n",
              " 'tenidas',\n",
              " 'tened']"
            ]
          },
          "metadata": {},
          "execution_count": 33
        }
      ]
    },
    {
      "cell_type": "code",
      "source": [
        "tokens_limp"
      ],
      "metadata": {
        "colab": {
          "base_uri": "https://localhost:8080/"
        },
        "id": "lKGDQHvvaKZl",
        "outputId": "e49dc43b-b9b2-43f5-9690-a85138b823f8"
      },
      "execution_count": 34,
      "outputs": [
        {
          "output_type": "execute_result",
          "data": {
            "text/plain": [
              "['noticias',\n",
              " 'buenas',\n",
              " 'palma',\n",
              " 'noticia',\n",
              " 'acontecimientos',\n",
              " 'dado',\n",
              " 'sido',\n",
              " 'esperados',\n",
              " 'desafortunadamente',\n",
              " 'generado',\n",
              " 'nuevas',\n",
              " 'corrientes',\n",
              " 'podran',\n",
              " 'ser',\n",
              " 'abordadas',\n",
              " 'fin',\n",
              " 'semana',\n",
              " 'espera',\n",
              " 'mas',\n",
              " 'objetivos',\n",
              " 'resumen',\n",
              " 'palmeros',\n",
              " 'encuentran',\n",
              " 'lamentables',\n",
              " 'seguiremos',\n",
              " 'informando']"
            ]
          },
          "metadata": {},
          "execution_count": 34
        }
      ]
    },
    {
      "cell_type": "code",
      "source": [
        "tokens_pos"
      ],
      "metadata": {
        "colab": {
          "base_uri": "https://localhost:8080/"
        },
        "id": "NxHsYWTfaXYX",
        "outputId": "d156c994-56e0-4810-fcd0-7fb03c9c2054"
      },
      "execution_count": 35,
      "outputs": [
        {
          "output_type": "execute_result",
          "data": {
            "text/plain": [
              "[('noticias', 'JJ'),\n",
              " ('buenas', 'NNS'),\n",
              " ('palma', 'VBP'),\n",
              " ('noticia', 'JJ'),\n",
              " ('acontecimientos', 'NN'),\n",
              " ('dado', 'NN'),\n",
              " ('sido', 'NN'),\n",
              " ('esperados', 'NN'),\n",
              " ('desafortunadamente', 'NN'),\n",
              " ('generado', 'NN'),\n",
              " ('nuevas', 'NN'),\n",
              " ('corrientes', 'VBZ'),\n",
              " ('podran', 'IN'),\n",
              " ('ser', 'NN'),\n",
              " ('abordadas', 'NNS'),\n",
              " ('fin', 'VBP'),\n",
              " ('semana', 'JJ'),\n",
              " ('espera', 'NN'),\n",
              " ('mas', 'NN'),\n",
              " ('objetivos', 'IN'),\n",
              " ('resumen', 'NNS'),\n",
              " ('palmeros', 'VBP'),\n",
              " ('encuentran', 'JJ'),\n",
              " ('lamentables', 'NNS'),\n",
              " ('seguiremos', 'VBP'),\n",
              " ('informando', 'NN')]"
            ]
          },
          "metadata": {},
          "execution_count": 35
        }
      ]
    },
    {
      "cell_type": "code",
      "source": [
        "tokens_nc"
      ],
      "metadata": {
        "colab": {
          "base_uri": "https://localhost:8080/"
        },
        "id": "AWwLtr4qaXjH",
        "outputId": "2bb5910d-22e4-4b4d-8def-db0a12c55371"
      },
      "execution_count": 36,
      "outputs": [
        {
          "output_type": "execute_result",
          "data": {
            "text/plain": [
              "[]"
            ]
          },
          "metadata": {},
          "execution_count": 36
        }
      ]
    }
  ]
}